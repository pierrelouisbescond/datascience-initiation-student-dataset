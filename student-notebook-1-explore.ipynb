{
 "cells": [
  {
   "cell_type": "markdown",
   "id": "32e6b740",
   "metadata": {},
   "source": [
    "![student studying](https://images.unsplash.com/photo-1434030216411-0b793f4b4173?ixlib=rb-1.2.1&ixid=MnwxMjA3fDB8MHxwaG90by1wYWdlfHx8fGVufDB8fHx8&auto=format&fit=crop&w=1470&q=80)\n",
    "\n",
    "Photo by [Green Chameleon](https://unsplash.com/@craftedbygc?utm_source=unsplash&utm_medium=referral&utm_content=creditCopyText) on [Unsplash](https://unsplash.com/s/photos/study?utm_source=unsplash&utm_medium=referral&utm_content=creditCopyText)\n",
    "# Modélisation des résultats aux examens de 3ème trimestre\n",
    "---\n",
    "## Introduction\n",
    "Le jeu de données original est fourni par l'\"University of California\" ; il est disponible [ici](https://archive.ics.uci.edu/ml/datasets/student+performance).\n",
    "\n",
    "Il a été modifié pour répondre aux contraintes de découverte du Machine Learning sur une durée de quelques heures seulement.\n",
    "\n",
    "<ins>Voici la description des différentes colonnes du jeu de données<ins> :\n",
    "\n",
    "* **sex** - student's sex (binary: \"F\" - female or \"M\" - male)\n",
    "* **age** - student's age (numeric)\n",
    "* **Pstatus** - parent's cohabitation status (binary: \"T\" - living together or \"A\" - apart)\n",
    "* **Medu** - mother's education (numeric: 0 - none,  1 - primary education (4th grade), 2 – 5th to 9th grade, 3 – secondary education or 4 – higher education)\n",
    "* **Fedu** - father's education (numeric: 0 - none,  1 - primary education (4th grade), 2 – 5th to 9th grade, 3 – secondary education or 4 – higher education)\n",
    "* **traveltime** - home to school travel time (numeric: 1 - <15 min., 2 - 15 to 30 min., 3 - 30 min. to 1 hour, or 4 - >1 hour)\n",
    "* **studytime** - weekly study time (numeric: 1 - <2 hours, 2 - 2 to 5 hours, 3 - 5 to 10 hours, or 4 - >10 hours)\n",
    "* **failures** - number of past class failures (numeric: n if 1<=n<3, else 4)\n",
    "* **schoolsup** - extra educational support (binary: yes or no)\n",
    "* **famsup** - family educational support (binary: yes or no)\n",
    "* **paid** - extra paid classes within the course subject (Math or Portuguese) (binary: yes or no)\n",
    "* **activities** - extra-curricular activities (binary: yes or no)\n",
    "* **nursery** - attended nursery school (binary: yes or no)\n",
    "* **higher** - wants to take higher education (binary: yes or no)\n",
    "* **internet** - Internet access at home (binary: yes or no)\n",
    "* **romantic** - with a romantic relationship (binary: yes or no)\n",
    "* **famrel** - quality of family relationships (numeric: from 1 - very bad to 5 - excellent)\n",
    "* **freetime** - free time after school (numeric: from 1 - very low to 5 - very high)\n",
    "* **goout** - going out with friends (numeric: from 1 - very low to 5 - very high)\n",
    "* **Dalc** - workday alcohol consumption (numeric: from 1 - very low to 5 - very high)\n",
    "* **Walc** - weekend alcohol consumption (numeric: from 1 - very low to 5 - very high)\n",
    "* **health** - current health status (numeric: from 1 - very bad to 5 - very good)\n",
    "* **absences** - number of school absences (numeric: from 0 to 93)\n",
    "* **G1** - first period grade (numeric: from 0 to 20)\n",
    "* **G2** - second period grade (numeric: from 0 to 20)\n",
    "* **G3** - final grade (numeric: from 0 to 20, output target)\n",
    "\n",
    "### L'objectif de l'étude va être d'explorer ce jeu de données et de définir avec quelle précision nous pouvons prédire le score au troisième trimestre (G3) d'un(e) étudiant(e) en nous basant sur toutes les informations que nous possédons sur lui/elle.\n",
    "\n",
    "---"
   ]
  },
  {
   "cell_type": "markdown",
   "id": "d870eb8c",
   "metadata": {},
   "source": [
    "## Import du jeu de données\n",
    "\n",
    "Il convient avant toute chose d'importer le jeu de données dans la mémoire de Python. Pour cela, nous allons utiliser une librairie (c'est un sous-programme spécialisé dans certaines tâches) : **Pandas**.\n",
    "\n",
    "Il faut donc exécuter la commande suivante :\n",
    "\n",
    "```\n",
    "import pandas as pd\n",
    "```"
   ]
  },
  {
   "cell_type": "code",
   "execution_count": null,
   "id": "be41908c",
   "metadata": {},
   "outputs": [],
   "source": [
    "# Insère ton code ci-dessous et exécute la cellule\n",
    "# (Touches \"Shift\" et \"Entrée\" simultanément)\n"
   ]
  },
  {
   "cell_type": "markdown",
   "id": "dd738283",
   "metadata": {},
   "source": [
    "*Note : Nous pouvons remarquer qu'au lieu d'utiliser simplement \"**import pandas**\", nous avons ajouté \"**as pd**\" à la fin de l'instruction. Cela veut dire qu'au lieu de toujours appeler les fonctions de la librairie en indiquant \"**pandas.fonction**\", nous pourrons aller plus vite en codant \"**pd.fonction**\".*\n",
    "\n",
    "\n",
    "Nous allons maintenant vérifier que l'importation s'est bien déroulée en regardant quelle est la version de la librairie Pandas utilisée.\n",
    "\n",
    "```\n",
    "print(pd.__version__)\n",
    "```"
   ]
  },
  {
   "cell_type": "code",
   "execution_count": null,
   "id": "bbede3e6",
   "metadata": {},
   "outputs": [],
   "source": [
    "# Insère ton code ci-dessous et exécute la cellule\n"
   ]
  },
  {
   "cell_type": "markdown",
   "id": "7d8eccb0",
   "metadata": {},
   "source": [
    "Le jeu de données que nous allons utiliser est au format CSV (Comma Separated Values = Valeurs Séparées par des Virgules).\n",
    "\n",
    "Pandas possède justement une fonction qui lui permet de lire ce type de fichier et de le convertir en tableau.\n",
    "\n",
    "Le code \"type\" à exécuter est le suivant :\n",
    "\n",
    "```\n",
    "df = pd.read_csv(\"./fichier.csv\")\n",
    "df\n",
    "```\n",
    "\n",
    "* **df** => sera le nom du jeu de données, c'est l'abréviation de \"DataFrame\"\n",
    "* **pd.read_csv** => indique à Python que nous souhaitons utiliser la fonction \"read_csv\" de Pandas (= pd)\n",
    "* **\"./fichier.csv\"** => indique le chemin pour accéder au fichier\n",
    "* En écrivant \"**df**\" une seconde fois, nous demandons à Python d'afficher le résultat de l'opération"
   ]
  },
  {
   "cell_type": "code",
   "execution_count": null,
   "id": "9faaaa98",
   "metadata": {},
   "outputs": [],
   "source": [
    "# Insère ton code ci-dessous et exécute la cellule\n",
    "# Attention : il faut remplacer \"fichier.csv\" par le véritable nom du fichier : \"student-1-start.csv\"\n"
   ]
  },
  {
   "cell_type": "markdown",
   "id": "42909751",
   "metadata": {},
   "source": [
    "Nous pouvons remarquer plusieurs choses :\n",
    "* Il y a tellement de colonnes à afficher que nous ne pouvons pas tout voir sur le tableau, certaines colonnes sont masquées et remplacées par \"...\" au milieu du tableau.\n",
    "* C'est la même chose pour les lignes : seules les 5 premières et les 5 dernières sont affichées.\n",
    "* Pandas indique les dimensions du tableau à la fin de la cellule : \"395 rows × 26 columns\", soit 395 étudiants et 26 caractéristiques.\n",
    "\n",
    "---\n",
    "## Exploration du jeu de données\n",
    "Nous pouvons vérifier que toutes les colonnes sont bien importées en demandant à Python les informations sur le DataFrame :\n",
    "\n",
    "```\n",
    "df.info()\n",
    "```"
   ]
  },
  {
   "cell_type": "code",
   "execution_count": null,
   "id": "f6713984",
   "metadata": {
    "scrolled": false
   },
   "outputs": [],
   "source": [
    "# Insère ton code ci-dessous et exécute la cellule\n"
   ]
  },
  {
   "cell_type": "markdown",
   "id": "51bf9e37",
   "metadata": {},
   "source": [
    "Nous pouvons remarquer :\n",
    "* que les 26 colonnes sont bien présentes (index de 0 à 25)\n",
    "* que les informations contenues dans les colonnes sont soit des nombres entiers (int64), soit des chaines de caractères (string)\n",
    "* que le tableau utilise ~81KB de mémoire... ce qui est très peu ! **Par comparaison, le jeu Fortnite sur PC a besoin de 30 Go, soit 240 Gbits, soit 251 658 240 KB... il est donc 3 millions de fois plus gourmand en espace !!!**\n",
    "---\n",
    "###  Sélection de lignes et colonnes\n",
    "Il est possible de ne pas afficher l'intégralité du tableau mais uniquement certaines valeurs et/ou colonnes.\n",
    "\n",
    "Commençons avec un exemple simple : 1 seule colonne (\"G3\") qui correspond à la note à l'examen du 3ème trimestre\n",
    "\n",
    "```\n",
    "print(df[\"G3\"])\n",
    "```"
   ]
  },
  {
   "cell_type": "code",
   "execution_count": null,
   "id": "7c71e134",
   "metadata": {},
   "outputs": [],
   "source": [
    "# Insère ton code ci-dessous et exécute la cellule\n"
   ]
  },
  {
   "cell_type": "markdown",
   "id": "9377cdfc",
   "metadata": {},
   "source": [
    "Note : nous pouvons remarquer que, une fois de plus, Pandas n'affiche que les 5 premières et 5 dernières valeurs du DataFrame...\n",
    "\n",
    "---\n",
    "Nous allons lui demander de nous afficher les 30 premières lignes en utilisant la fonction \"iloc\" (= **i**nteger **loc**ation). Cela veut dire que nous demandons l'affichage des lignes dont les index (= n° de lignes) vont de 0 à 29 :\n",
    "\n",
    "```\n",
    "print(df[\"G3\"].iloc[0:30])\n",
    "```\n",
    "\n",
    "Note : la borne supérieure est exclue par défaut par la fonction \"iloc\" donc nous indiquons \"0:30\" pour obtenir les index de 0 à 29 !"
   ]
  },
  {
   "cell_type": "code",
   "execution_count": null,
   "id": "72879c1d",
   "metadata": {},
   "outputs": [],
   "source": [
    "# Insère ton code ci-dessous et exécute la cellule\n"
   ]
  },
  {
   "cell_type": "markdown",
   "id": "c92d4e9e",
   "metadata": {},
   "source": [
    "---\n",
    "Faisons la même chose en partant de la 100ème ligne :\n",
    "\n",
    "```\n",
    "print(df[\"G3\"].iloc[100:130])\n",
    "```"
   ]
  },
  {
   "cell_type": "code",
   "execution_count": null,
   "id": "2a980d5d",
   "metadata": {},
   "outputs": [],
   "source": [
    "# Insère ton code ci-dessous et exécute la cellule\n"
   ]
  },
  {
   "cell_type": "markdown",
   "id": "7137a070",
   "metadata": {},
   "source": [
    "Nous pouvons aussi sélectionner plusieurs colonnes en passant leurs noms sous forme de liste.\n",
    "\n",
    "Pour rappel, une liste s'écrit ainsi :\n",
    "\n",
    "```\n",
    "[\"element1\", \"element2\", \"element3\", etc.]\n",
    "```\n",
    "\n",
    "Nous allons donc passer une liste de 3 colonnes (G1, G2 et G3) :\n",
    "\n",
    "```\n",
    "print(df[[\"G1\", \"G2\", \"G3\"]])\n",
    "```\n",
    "/!\\ aux doubles crochets :\n",
    "* les crochets extérieurs servent à indiquer que nous souhaitons afficher une ou plusieurs colonnes dans \"df\" : df[...]\n",
    "* les crochets intérieurs délimitent la liste des colonnes : [ ..., ..., ...]"
   ]
  },
  {
   "cell_type": "code",
   "execution_count": null,
   "id": "59901dac",
   "metadata": {},
   "outputs": [],
   "source": [
    "# Insère ton code ci-dessous et exécute la cellule\n"
   ]
  },
  {
   "cell_type": "markdown",
   "id": "d19814cc",
   "metadata": {},
   "source": [
    "La librairie Pandas permet également d'obtenir très rapidement des statistiques sur les colonnes numériques : nombre de valeurs, moyenne (= mean), écart-type (= std), minimum et maximum.\n",
    "\n",
    "Pour obtenir ces informations, il suffit d'exécuter la fonction suivante :\n",
    "\n",
    "```\n",
    "df.describe()\n",
    "```"
   ]
  },
  {
   "cell_type": "code",
   "execution_count": null,
   "id": "0e0aa705",
   "metadata": {},
   "outputs": [],
   "source": [
    "# Insère ton code ci-dessous et exécute la cellule\n"
   ]
  },
  {
   "cell_type": "markdown",
   "id": "4b6e68c3",
   "metadata": {},
   "source": [
    "---\n",
    "\n",
    "## Cherchez l'erreur !\n",
    "\n",
    "Il nous a été signalé que des erreurs de saisie se sont peut-être glissées dans le jeu de données, notamment sur la 1ère colonne : \"age\". 🤔\n",
    "\n",
    "Comme nous n'avons pas le temps de regarder les 395 valeurs une-à-une, il faut que nous utilisions les statistiques !\n",
    "\n",
    "Examine bien celles de la colonne \"age\". Trouves-tu des éléments intrigants ? (il y en a 2 à trouver !)\n",
    "\n",
    "**Lorsque tu penses avoir identifié ces problèmes, valide-les avec ton/ta référent(e) avant de passer à la suite.**\n"
   ]
  },
  {
   "cell_type": "markdown",
   "id": "219b1276",
   "metadata": {},
   "source": [
    "----\n",
    "## Affichage graphique\n",
    "\n",
    "Si tu as identifié les problèmes dans la colonne \"age\", tu comprends qu'il pourrait être intéressant de créér un graphique qui présente la distribution des âges.\n",
    "\n",
    "Nous pouvons faire cela en utilisant la librairie \"**Matplotlib**\" qui est destinée aux représentations graphiques :\n",
    "\n",
    "```\n",
    "import matplotlib.pyplot as plt\n",
    "plt.rcParams[\"figure.figsize\"] = (8, 8)\n",
    "plt.hist(df[\"age\"])\n",
    "plt.xlabel(\"Age des étudiants\")  \n",
    "plt.ylabel(\"Nombre d'étudiants\")\n",
    "plt.show()\n",
    "```\n",
    "\n",
    "* La 1ère ligne importe la librairie avec un alias (= plt)\n",
    "* La 2ème ligne détermine les dimensions de l'histogramme en pouces (= \"inches\" en Anglais)\n",
    "* Le 3ème ligne indique que nous souhaitons utiliser la fonction \"**hist**\" (= histogramme) sur la colonne \"age\" du DataFrame (**df[\"age\"]**)\n",
    "* Les 4ème et 5ème lignes ajoutent des légendes aux axes du graphique"
   ]
  },
  {
   "cell_type": "code",
   "execution_count": null,
   "id": "ae67070a",
   "metadata": {},
   "outputs": [],
   "source": [
    "# Insère ton code ci-dessous et exécute la cellule\n"
   ]
  },
  {
   "cell_type": "markdown",
   "id": "95980f98",
   "metadata": {},
   "source": [
    "Si tu es arrivé(e) jusqu'ici, félicitations 🙌\n",
    "\n",
    "Tu as découvert l'objet de ton étude, tu as importé le jeu de données et identifié un problème de valeurs présent dans la colonne âge qu'il faudra corriger !\n",
    "\n",
    "[En route pour le notebook suivant !](./student-notebook-2-correct.ipynb)"
   ]
  }
 ],
 "metadata": {
  "kernelspec": {
   "display_name": "Python 3 (ipykernel)",
   "language": "python",
   "name": "python3"
  },
  "language_info": {
   "codemirror_mode": {
    "name": "ipython",
    "version": 3
   },
   "file_extension": ".py",
   "mimetype": "text/x-python",
   "name": "python",
   "nbconvert_exporter": "python",
   "pygments_lexer": "ipython3",
   "version": "3.9.5"
  }
 },
 "nbformat": 4,
 "nbformat_minor": 5
}
