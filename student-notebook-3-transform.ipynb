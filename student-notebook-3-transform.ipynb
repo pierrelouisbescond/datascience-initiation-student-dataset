{
 "cells": [
  {
   "cell_type": "markdown",
   "id": "eac00843",
   "metadata": {},
   "source": [
    "![student studying](https://images.unsplash.com/photo-1434030216411-0b793f4b4173?ixlib=rb-1.2.1&ixid=MnwxMjA3fDB8MHxwaG90by1wYWdlfHx8fGVufDB8fHx8&auto=format&fit=crop&w=1470&q=80)\n",
    "\n",
    "Photo by [Green Chameleon](https://unsplash.com/@craftedbygc?utm_source=unsplash&utm_medium=referral&utm_content=creditCopyText) on [Unsplash](https://unsplash.com/s/photos/study?utm_source=unsplash&utm_medium=referral&utm_content=creditCopyText)\n",
    "# Modélisation des résultats aux examens de 3ème trimestre\n",
    "---\n",
    "## Transformation des données\n",
    "Les valeurs erronées du jeu de données ont été corrigées ; c'est une très bonne chose !\n",
    "\n",
    "Certaines valeurs sont également exprimées dans les colonnes sous la forme de chaines de caractères (= string) avec des combinaisons binaires (ex. : \"yes\" or \"no\"). Ce type d'information est difficilement interprétable par certains algorithmes et il faut donc convertir ces valeurs.\n",
    "\n",
    "Exemple :\n",
    "* \"yes\" -> 1\n",
    "* \"no\" -> 0\n",
    "\n",
    "---"
   ]
  },
  {
   "cell_type": "markdown",
   "id": "08de22a7",
   "metadata": {},
   "source": [
    "## Import du jeu de données\n",
    "\n",
    "Comme précédemment, nous importons la librairie Pandas et le jeu de données que tu as corrigé précédemment :\n",
    "\n",
    "```\n",
    "import pandas as pd\n",
    "\n",
    "df = pd.read_csv(\"./student-2-corrected.csv\")\n",
    "df\n",
    "```"
   ]
  },
  {
   "cell_type": "code",
   "execution_count": null,
   "id": "eebb95b1",
   "metadata": {},
   "outputs": [],
   "source": [
    "# Insère ton code ci-dessous et exécute la cellule\n"
   ]
  },
  {
   "cell_type": "markdown",
   "id": "28b23459",
   "metadata": {},
   "source": [
    "## Transformation des valeurs \"yes\" et \"no\"\n",
    "Pandas possède une fonction \"Replace\" qui permet de chercher les occurrences d'un ou plusieurs termes pour les remplacer automatiquement.\n",
    "\n",
    "Commençons par regarder à quoi ressemblerait le résultat en exécutant la commande suivante :\n",
    "\n",
    "```\n",
    "df.replace({\"yes\": 1, \"no\": 0})\n",
    "```"
   ]
  },
  {
   "cell_type": "code",
   "execution_count": null,
   "id": "e8aa7e4b",
   "metadata": {},
   "outputs": [],
   "source": [
    "# Insère ton code ci-dessous et exécute la cellule\n"
   ]
  },
  {
   "cell_type": "markdown",
   "id": "d5c7e5de",
   "metadata": {},
   "source": [
    "*Note : Pandas nous montre le résultat de notre opération mais ne l'a pas appliquée sur le DataFrame.*\n",
    "\n",
    "Nous pouvons voir les valeurs des colonnes \"schoolsup\" et \"famsup\" ont bien été modifiées 👌\n",
    "\n",
    "Nous allons donc indiquer à Pandas que la nouvelle version du DataFrame (df) devient le tableau avec les valeurs modifiées :\n",
    "```\n",
    "df = df.replace({\"yes\": 1, \"no\": 0})\n",
    "```"
   ]
  },
  {
   "cell_type": "code",
   "execution_count": null,
   "id": "e4b1ed7f",
   "metadata": {},
   "outputs": [],
   "source": [
    "# Insère ton code ci-dessous et exécute la cellule\n"
   ]
  },
  {
   "cell_type": "markdown",
   "id": "d628ca7b",
   "metadata": {},
   "source": [
    "Nous allons répéter la même opération pour convertir les autres colonnes comme suit :\n",
    "\n",
    "**Colonne \"sex\" :**\n",
    "* M => 0\n",
    "* F => 1\n",
    "\n",
    "**Colonne \"Pstatus\" :**\n",
    "* T => 0\n",
    "* A => 1\n",
    "\n",
    "Cette fois-ci, nous voulons remplacer les valeurs dans une seule colonne, la syntaxe va donc être :\n",
    "\n",
    "```\n",
    "df[\"nom_de_la_colonne\"] = df[\"nom_de_la_colonne\"].replace({\"valeur_initiale_1\": 0, \"valeur_initiale_2\": 1})\n",
    "```"
   ]
  },
  {
   "cell_type": "code",
   "execution_count": null,
   "id": "a0c9c9eb",
   "metadata": {},
   "outputs": [],
   "source": [
    "# Cellule 1 - Remplacement dans la colonne \"sex\"\n",
    "# Insère ton code ci-dessous et exécute la cellule\n"
   ]
  },
  {
   "cell_type": "code",
   "execution_count": null,
   "id": "1e2626ab",
   "metadata": {},
   "outputs": [],
   "source": [
    "# Cellule 2 - Remplacement dans la colonne \"Pstatus\"\n",
    "# Insère ton code ci-dessous et exécute la cellule\n"
   ]
  },
  {
   "cell_type": "markdown",
   "id": "b4e09f11",
   "metadata": {},
   "source": [
    "Nous pouvons exécuter l'instruction \"df\" pour afficher les valeurs du tableau et constater que les remplacements ont bien été effectués."
   ]
  },
  {
   "cell_type": "code",
   "execution_count": null,
   "id": "d7844654",
   "metadata": {},
   "outputs": [],
   "source": [
    "# Insère ton code ci-dessous et exécute la cellule\n"
   ]
  },
  {
   "cell_type": "markdown",
   "id": "4e8bca6a",
   "metadata": {},
   "source": [
    "Si tu es arrivé(e) jusqu'ici, félicitations 🙌\n",
    "\n",
    "Tu as fini de préparer le jeu de données !\n",
    "\n",
    "Il ne te reste qu'à exécuter la cellule ci-dessous pour enregistrer tout cela dans un fichier et nous pourrons ensuite lancer l'entrainement d'un modèle."
   ]
  },
  {
   "cell_type": "code",
   "execution_count": null,
   "id": "1f6027aa",
   "metadata": {},
   "outputs": [],
   "source": [
    "# Cellule à exécuter\n",
    "df.to_csv(\"./student-3-prepared.csv\", index=False)"
   ]
  },
  {
   "cell_type": "markdown",
   "id": "a7cdf932",
   "metadata": {},
   "source": [
    "[En route pour le notebook suivant !](./student-notebook-4-train.ipynb)"
   ]
  }
 ],
 "metadata": {
  "kernelspec": {
   "display_name": "Python 3 (ipykernel)",
   "language": "python",
   "name": "python3"
  },
  "language_info": {
   "codemirror_mode": {
    "name": "ipython",
    "version": 3
   },
   "file_extension": ".py",
   "mimetype": "text/x-python",
   "name": "python",
   "nbconvert_exporter": "python",
   "pygments_lexer": "ipython3",
   "version": "3.9.5"
  }
 },
 "nbformat": 4,
 "nbformat_minor": 5
}
