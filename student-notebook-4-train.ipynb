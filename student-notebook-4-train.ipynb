{
 "cells": [
  {
   "cell_type": "markdown",
   "id": "eac00843",
   "metadata": {},
   "source": [
    "![student studying](https://images.unsplash.com/photo-1434030216411-0b793f4b4173?ixlib=rb-1.2.1&ixid=MnwxMjA3fDB8MHxwaG90by1wYWdlfHx8fGVufDB8fHx8&auto=format&fit=crop&w=1470&q=80)\n",
    "\n",
    "Photo by [Green Chameleon](https://unsplash.com/@craftedbygc?utm_source=unsplash&utm_medium=referral&utm_content=creditCopyText) on [Unsplash](https://unsplash.com/s/photos/study?utm_source=unsplash&utm_medium=referral&utm_content=creditCopyText)\n",
    "# Modélisation des résultats aux examens de 3ème trimestre\n",
    "---\n",
    "## Entrainement et évaluation d'un modèle\n",
    "Maintenant que nous possédons un jeu de données fiable, il ne reste plus qu'à entrainer un modèle mathématique qui va analyser toutes les colonnes du jeu de données et essayer de comprendre quels sont les facteurs qui permettent de prédire le score final d'un étudiant.\n"
   ]
  },
  {
   "cell_type": "markdown",
   "id": "08de22a7",
   "metadata": {},
   "source": [
    "## Import du jeu de données\n",
    "\n",
    "Comme précédemment, nous importons la librairie Pandas et le jeu de données précédent :\n",
    "\n",
    "```\n",
    "import pandas as pd\n",
    "\n",
    "df = pd.read_csv(\"./student-3-prepared.csv\")\n",
    "df\n",
    "```"
   ]
  },
  {
   "cell_type": "code",
   "execution_count": null,
   "id": "eebb95b1",
   "metadata": {},
   "outputs": [],
   "source": [
    "# Insère ton code ci-dessous et exécute la cellule\n"
   ]
  },
  {
   "cell_type": "markdown",
   "id": "ed5b3728",
   "metadata": {},
   "source": [
    "## Préparation des jeux de données d'entrainement et de test\n",
    "En Data Science, la méthodologie consiste à scinder le jeu de données intial en 4 :\n",
    "\n",
    "* **X_train** = toutes les colonnes à l'exception de \"G3\" pour 375 étudiants*\n",
    "* **y_train** = uniquement la colonne \"G3\" pour les mêmes 375 étudiants*\n",
    "\n",
    "(* ce nombre correspond à ~95% des étudiants. Ce ratio varie normalement entre 70 et 90% en fonction des projets)\n",
    "\n",
    "\n",
    "* **X_test** = toutes les colonnes à l'exception de \"G3\" pour les 20 étudiants restants\n",
    "* **y_test** = uniquement la colonne \"G3\" pour les mêmes 20 étudiants\n",
    "\n",
    "Pour réaliser cette opération, nous allons faire appel à un librairie très populaire : \"**SciKit-Learn**\", qui a été développée par l'INRIA (un institut de recherche Français) et utilisée par tous les Data Scientists à travers le monde.\n",
    "\n",
    "Commençons par importer la fonction qui va scinder le jeu de données pour nous de façon aléatoire :\n",
    "\n",
    "```\n",
    "from sklearn.model_selection import train_test_split\n",
    "```"
   ]
  },
  {
   "cell_type": "code",
   "execution_count": null,
   "id": "00749962",
   "metadata": {},
   "outputs": [],
   "source": [
    "# Insère ton code ci-dessous et exécute la cellule\n"
   ]
  },
  {
   "cell_type": "markdown",
   "id": "bc31c7ad",
   "metadata": {},
   "source": [
    "---\n",
    "L'opération va se dérouler en 2 étapes :\n",
    "\n",
    "1. Nous allons d'abord séparer le jeu de données \"df\" en 2 :\n",
    "* X => toutes les colonnes sauf \"G3\" (ce sont les paramètres qui vont nous permettre de faire des prédictions)\n",
    "* y => la colonne \"G3\" (c'est la cible que nous cherchons à modéliser)\n",
    "\n",
    "2. Et ensuite nous pourrons en extraire X_train, X_test, y_train et y_test.\n",
    "\n",
    "---\n",
    "\n",
    "Commençons par créer X et y:\n",
    "\n",
    "```\n",
    "X = df.drop(\"G3\", axis=1)\n",
    "y = df[\"G3\"]\n",
    "```\n",
    "\n",
    "Notes :\n",
    "\n",
    "* la fonction \"drop\" indique à Pandas que nous souhaitons créer X en partant de \"df\" mais en supprimant \"G3\". L'instruction \"axis=1\" indique à Pandas que \"G3\" est une colonne que nous souhaitons supprimer car nous pourrions aussi lui demander de supprimer une ligne en utilisant axis=0.\n",
    "\n",
    "* y correspond simplement à la colonne \"G3\" de \"df\"."
   ]
  },
  {
   "cell_type": "code",
   "execution_count": null,
   "id": "793db81b",
   "metadata": {},
   "outputs": [],
   "source": [
    "# Insère ton code ci-dessous et exécute la cellule\n"
   ]
  },
  {
   "cell_type": "markdown",
   "id": "7595b95a",
   "metadata": {},
   "source": [
    "Nous pouvons vérifier que l'opération s'est bien déroulée en utilisant la commande \"shape\" qui donne la dimension d'un jeu de données.\n",
    "\n",
    "```\n",
    "print(X.shape)\n",
    "```"
   ]
  },
  {
   "cell_type": "code",
   "execution_count": null,
   "id": "f9e13414",
   "metadata": {},
   "outputs": [],
   "source": [
    "# Insère ton code ci-dessous et exécute la cellule\n"
   ]
  },
  {
   "cell_type": "markdown",
   "id": "bf51a162",
   "metadata": {},
   "source": [
    "(395, 25) => Nous indique que X a bien 25 colonnes (26 colonnes au départ - la colonne \"G3\")"
   ]
  },
  {
   "cell_type": "markdown",
   "id": "122209f7",
   "metadata": {},
   "source": [
    "---\n",
    "Maintenant que X et y sont créés, nous pouvons créer les jeux de données finaux :\n",
    "```\n",
    "X_train, X_test, y_train, y_test = train_test_split(X, y, test_size=20)\n",
    "```\n",
    "Note : avec \"test_size=20\", nous indiquons que nous voulons garder 20 étudiants dont les informations ne seront pas utilisées pour l'entrainement et qui serviront à tester la robustesse du modèle sur des données qu'il n'a pas vues pendant l'entrainement."
   ]
  },
  {
   "cell_type": "code",
   "execution_count": null,
   "id": "14fa9045",
   "metadata": {},
   "outputs": [],
   "source": [
    "# Insère ton code ci-dessous et exécute la cellule\n"
   ]
  },
  {
   "cell_type": "markdown",
   "id": "ef6a5efe",
   "metadata": {},
   "source": [
    "Utilisons à nouveau \".shape\" pour regarder les tailles de X_train et X_test :"
   ]
  },
  {
   "cell_type": "code",
   "execution_count": null,
   "id": "1e03eeaa",
   "metadata": {},
   "outputs": [],
   "source": [
    "# Cellule 1 - Dimensions de X_train\n",
    "# Insère ton code ci-dessous et exécute la cellule\n"
   ]
  },
  {
   "cell_type": "code",
   "execution_count": null,
   "id": "f714e6d4",
   "metadata": {},
   "outputs": [],
   "source": [
    "# Cellule 2 - Dimensions de X_test\n",
    "# Insère ton code ci-dessous et exécute la cellule\n"
   ]
  },
  {
   "cell_type": "markdown",
   "id": "aed771bd",
   "metadata": {},
   "source": [
    "Si l'opération s'est bien déroulée, les valeurs suivantes se sont affichées :\n",
    "\n",
    "* X_train => (375, 25)\n",
    "* X_test => (20, 25)"
   ]
  },
  {
   "cell_type": "markdown",
   "id": "791268c8",
   "metadata": {},
   "source": [
    "## Entrainement du modèle\n",
    "Nous allons utiliser un des algorithmes les plus connus et les plus simples : la régression linéaire.\n",
    "\n",
    "C'est un algorithme qui va tenter de trouver une équation où la cible \"y\" correspond à la somme des paramètres connus, multipliés à chaque fois par un coefficient. Tu pourras trouver plus d'informations sur son fonctionnement [ici](./student-notebook-4-linear_regression.md).\n",
    "\n",
    "Exemple simplifié : \\\\[ y \\approx (parametre_1 * coef_1) + (parametre_2 * coef_2) +  ...  + (parametre_{n-1} * coef_{n-1}) + (parametre_n * coef_n)\\\\]\n",
    "\n",
    "Et dans le cas ici présent, l'équation va correspondre à déterminer \"G3\" en fonction de tous les éléments connus sur l'étudiant :\n",
    "\n",
    "\\\\[ G3 \\approx (sex * coef_1) + (age * coef_2) + (Pstatus * coef_3) + ... + (G2 * coef_{n-1}) + (G3 * coef_n)\\\\]\n",
    "\n",
    "---\n",
    "\n",
    "Commençons par importer la fonction de Régression Linéaire\n",
    "\n",
    "```\n",
    "from sklearn.linear_model import LinearRegression\n",
    "```"
   ]
  },
  {
   "cell_type": "code",
   "execution_count": null,
   "id": "5984bd93",
   "metadata": {},
   "outputs": [],
   "source": [
    "# Insère ton code ci-dessous et exécute la cellule\n"
   ]
  },
  {
   "cell_type": "markdown",
   "id": "8a0c23de",
   "metadata": {},
   "source": [
    "Nous allons ensuite créer un modèle \"reg_lin\" et l'entrainer (= fit) sur les données d'entrainement (logique !)\n",
    "\n",
    "```\n",
    "reg_lin = LinearRegression(normalize=True)\n",
    "reg_lin.fit(X_train, y_train)\n",
    "```"
   ]
  },
  {
   "cell_type": "code",
   "execution_count": null,
   "id": "0bf2b6e6",
   "metadata": {},
   "outputs": [],
   "source": [
    "%%time\n",
    "# Insère ton code ci-dessous et exécute la cellule\n"
   ]
  },
  {
   "cell_type": "markdown",
   "id": "8830032e",
   "metadata": {},
   "source": [
    "Comme tu as pu le constater, nous avions ajouté la commande \"%%time\" au début de la cellule pour calculer le temps d'exécution de la celulle. L'entrainement du modèle n'a pris que quelques millisecondes !\n",
    "\n",
    "---\n",
    "\n",
    "## Evaluation du modèle\n",
    "Maintenant, nous allons évaluer quelle est la performance du modèle sur des données qu'il n'a jamais vues. \n",
    "\n",
    "Il existe une fonction toute faite pour calculer ce score (R²) qui varie entre 0 (modèle inutile) et 1 (modèle parfait).\n",
    "\n",
    "```\n",
    "reg_lin.score(X_test, y_test)\n",
    "```"
   ]
  },
  {
   "cell_type": "code",
   "execution_count": null,
   "id": "b21c792a",
   "metadata": {},
   "outputs": [],
   "source": [
    "# Insère ton code ci-dessous et exécute la cellule\n"
   ]
  },
  {
   "cell_type": "markdown",
   "id": "253ee3eb",
   "metadata": {},
   "source": [
    "En fonction des jeux de données utilisés (qui se construisent au hasard quand nous utilisons la fonction \"train_test_split\"), tu devrais obtenir un score entre 75 et 95%, ce qui est un très bon score !\n",
    "\n",
    "Mais, après tout, un score ne veut pas dire grand-chose...\n",
    "\n",
    "Il serait plus intéressant de faire la comparaison entre les prédictions du modèle et la réalité !\n",
    "\n",
    "Nous allons donc créer un petit DataFrame avec 2 colonnes : \"G3\" et \"G3_predictions\"\n",
    "\n",
    "```\n",
    "comparaison = pd.DataFrame(data = y_test)\n",
    "comparaison[\"G3_predictions\"]=reg_lin.predict(X_test)\n",
    "comparaison\n",
    "```\n",
    "\n",
    "*Note : la 1ère ligne crée un nouveau DataFrame qui s'appelle \"comparaison\" avec une 1ère colonne qui n'est autre que les valeurs réelles de G3. La seconde ligne ajoute une colonne qui correspond aux prédictions faites par le modèle.*"
   ]
  },
  {
   "cell_type": "code",
   "execution_count": null,
   "id": "35b06e58",
   "metadata": {},
   "outputs": [],
   "source": [
    "# Insère ton code ci-dessous et exécute la cellule\n"
   ]
  },
  {
   "cell_type": "markdown",
   "id": "45a1cbff",
   "metadata": {},
   "source": [
    "Nous pouvons constater que les prédictions sont relativement proches **mais aussi que le modèle utilise des décimales** alors qu'il n'y en a pas dans les vraies valeurs.\n",
    "\n",
    "Nous pourrions donc utiliser une fonction d'arrondi pour simplifier la comparaison :\n",
    "\n",
    "```\n",
    "comparaison.round()\n",
    "```"
   ]
  },
  {
   "cell_type": "code",
   "execution_count": null,
   "id": "3b4c41f6",
   "metadata": {},
   "outputs": [],
   "source": [
    "# Insère ton code ci-dessous et exécute la cellule\n"
   ]
  },
  {
   "cell_type": "markdown",
   "id": "6d09db0a",
   "metadata": {},
   "source": [
    "La proximité entre les valeurs réelles et prédites est encore plus flagrante !\n",
    "\n",
    "---\n",
    "\n",
    "## Affichage des prédictions\n",
    "Et si nous utilisions une représentation graphique pour visualiser à quel point les prédictions sont proches de la réalité ?\n",
    "Exécute le code ci-dessous qui fait appel à la librairie \"Matlplotlib\" que nous avons utilisée au début de notre exploration de données."
   ]
  },
  {
   "cell_type": "code",
   "execution_count": null,
   "id": "7c6c2a47",
   "metadata": {},
   "outputs": [],
   "source": [
    "# Cellule à exécuter\n",
    "import matplotlib.pyplot as plt\n",
    "\n",
    "comparaison = comparaison.reset_index()\n",
    "\n",
    "fig = plt.figure()\n",
    "fig.set_size_inches(20, 8)\n",
    "ax1 = fig.add_subplot(111)\n",
    "ax1.scatter(comparaison.index, comparaison[\"G3\"], c='b', s=50, marker=\"o\", label=\"G3\")\n",
    "ax1.scatter(comparaison.index, comparaison[\"G3_predictions\"].round(), c='r', s=80, marker=\"+\", label=\"G3_predictions\")\n",
    "ax1.legend()\n",
    "plt.show()"
   ]
  },
  {
   "cell_type": "markdown",
   "id": "95691ce5",
   "metadata": {},
   "source": [
    "Normalement, tu dois parfois voir des points (croix et ronds) parfaitement alignés (prédiction parfaite !) et parfois des points plus éloignés (erreur de prédiction...).\n",
    "\n",
    "---\n",
    "\n",
    "## Paramètres influents\n",
    "Il est intéressant de voir sur quels paramètres se base l'algorithme pour faire une si bonne prédiction. Exécute la cellule ci-dessous qui va créer un tableau avec les paramètres les plus importants... que nous identifions car ils ont les coefficients les plus élevés."
   ]
  },
  {
   "cell_type": "code",
   "execution_count": null,
   "id": "3f582159",
   "metadata": {
    "scrolled": false
   },
   "outputs": [],
   "source": [
    "# Cellule à exécuter\n",
    "coef_importance = pd.DataFrame(data=reg_lin.coef_, columns=[\"coef\"], index=X_train.columns)\n",
    "coef_importance[\"importance\"] = abs(coef_importance[\"coef\"])\n",
    "coef_importance.sort_values(by=\"importance\", ascending=False)"
   ]
  },
  {
   "cell_type": "markdown",
   "id": "7c39ac76",
   "metadata": {},
   "source": [
    "L'interprétation des coefficients n'est pas aisée ! N'hésite pas à regarder ces résultats avec ton référent !\n",
    "\n",
    "- la colonne \"importance\" montre à quel point le paramètre joue un rôle dans la prédiction\n",
    "- la colonne \"coef\" indique si c'est un effet positif ou négatif\n",
    "\n",
    "Quelques exemples :\n",
    "\n",
    "* \"**G2**\" a le coefficient le plus fort et il est positif => c'est logique car avoir de bons résultats au second trimestre donne confiance pour les résultats du 3ème trimestre ; le modèle en tient beaucoup compte !\n",
    "\n",
    "* \"**activities**\" a un coefficient élevé mais il est négatif => pour le modèle, avoir des activités extra-scolaires a un impact négatif sur la note du 3ème trimestre.\n",
    "\n",
    "* \"**failures**\" a un coefficient modéré et il est négatif => d'après le modèle, avoir redoublé lors des classes précédentes peut indiquer que l'on a des difficultés dans sa scolarité et il considère que cela diminue les chances d'avoir un bon score au 3ème trimestre.\n",
    "\n",
    "* \"**sex**\" est en bas du classement => cela veut donc dire que, pour le modèle, être une fille ou un garçon n'est pas un critère qui l'aide à évaluer la note du 3ème trimestre !"
   ]
  },
  {
   "cell_type": "markdown",
   "id": "4e8bca6a",
   "metadata": {},
   "source": [
    "Si tu es arrivé(e) jusqu'ici, mille félicitations car tu as bouclé ton étude de Data Scientist ! 🙌\n",
    "\n",
    "Petit rappel de tout ce que tu as entrepris :\n",
    "\n",
    "Tu as appris à :\n",
    "\n",
    "- maitriser beaucoup de commandes en Python\n",
    "- importer, explorer, analyser, corriger et transformer un jeu de données\n",
    "- entrainer un modèle pour qu'il puisse établir des prédictions\n",
    "- tester ces prédictions sur des valeurs inconnues et évaluer la performance de l'algorithme !\n",
    "\n",
    "---\n",
    "\n",
    "Et si tu as envie d'aller encore un tout petit plus loin dans ton analyse => [c'est par ici](./student-notebook-5-aller_plus_loin.ipynb) !"
   ]
  }
 ],
 "metadata": {
  "kernelspec": {
   "display_name": "Python 3 (ipykernel)",
   "language": "python",
   "name": "python3"
  },
  "language_info": {
   "codemirror_mode": {
    "name": "ipython",
    "version": 3
   },
   "file_extension": ".py",
   "mimetype": "text/x-python",
   "name": "python",
   "nbconvert_exporter": "python",
   "pygments_lexer": "ipython3",
   "version": "3.9.5"
  }
 },
 "nbformat": 4,
 "nbformat_minor": 5
}
